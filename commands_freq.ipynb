{
  "nbformat": 4,
  "nbformat_minor": 0,
  "metadata": {
    "colab": {
      "provenance": []
    },
    "kernelspec": {
      "name": "python3",
      "display_name": "Python 3"
    },
    "language_info": {
      "name": "python"
    }
  },
  "cells": [
    {
      "cell_type": "markdown",
      "source": [
        "# mount on your drive"
      ],
      "metadata": {
        "id": "NknFu2Suxj92"
      }
    },
    {
      "cell_type": "code",
      "execution_count": null,
      "metadata": {
        "id": "QYmoenEydVnz"
      },
      "outputs": [],
      "source": [
        "from google.colab import drive\n",
        "drive.mount(\"/content/mydrive\", force_remount=True)"
      ]
    },
    {
      "cell_type": "markdown",
      "source": [
        "# Change directory on your colab"
      ],
      "metadata": {
        "id": "ddroowtnxo-U"
      }
    },
    {
      "cell_type": "code",
      "source": [
        "import os\n",
        "os.chdir('/content/mydrive/MyDrive/')"
      ],
      "metadata": {
        "id": "pOZThgEkdX9W"
      },
      "execution_count": null,
      "outputs": []
    },
    {
      "cell_type": "markdown",
      "source": [
        "# unzip file which extension is 'zip'"
      ],
      "metadata": {
        "id": "R_rv7wR7xt3K"
      }
    },
    {
      "cell_type": "code",
      "source": [
        "!unzip -qq 'your file path'"
      ],
      "metadata": {
        "id": "XcyLNwPcdlfm"
      },
      "execution_count": null,
      "outputs": []
    },
    {
      "cell_type": "markdown",
      "source": [
        "# Empty your memory. I've usually used it for fine-tuning"
      ],
      "metadata": {
        "id": "hwVbhFeNxwrO"
      }
    },
    {
      "cell_type": "code",
      "source": [
        "import torch, gc\n",
        "gc.collect()\n",
        "torch.cuda.empty_cache()"
      ],
      "metadata": {
        "id": "bgWqsDjGdxlk"
      },
      "execution_count": null,
      "outputs": []
    },
    {
      "cell_type": "markdown",
      "source": [
        "# Install conda commands on colab"
      ],
      "metadata": {
        "id": "WV_6BIHTv8OW"
      }
    },
    {
      "cell_type": "code",
      "source": [
        "!wget https://repo.anaconda.com/miniconda/Miniconda3-latest-Linux-x86_64.sh\n",
        "!chmod +x Miniconda3-latest-Linux-x86_64.sh\n",
        "!bash ./Miniconda3-latest-Linux-x86_64.sh -b -f -p /usr/local"
      ],
      "metadata": {
        "id": "DPMxH0K_v-dE"
      },
      "execution_count": null,
      "outputs": []
    }
  ]
}